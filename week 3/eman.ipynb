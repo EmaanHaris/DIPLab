{
 "cells": [
  {
   "cell_type": "code",
   "execution_count": 43,
   "id": "e8d2f769-7c34-46f0-a720-9cad172dd039",
   "metadata": {},
   "outputs": [
    {
     "name": "stdout",
     "output_type": "stream",
     "text": [
      "Requirement already satisfied: opencv-python in c:\\anaconda3\\lib\\site-packages (4.10.0.84)\n",
      "Requirement already satisfied: numpy>=1.21.2 in c:\\anaconda3\\lib\\site-packages (from opencv-python) (1.26.4)\n",
      "Note: you may need to restart the kernel to use updated packages.\n"
     ]
    }
   ],
   "source": [
    "pip install opencv-python"
   ]
  },
  {
   "cell_type": "code",
   "execution_count": 44,
   "id": "4382893c-7cdc-430a-8a37-668c88884f27",
   "metadata": {},
   "outputs": [],
   "source": [
    "import cv2\n",
    "import numpy as np"
   ]
  },
  {
   "cell_type": "markdown",
   "id": "cf6f0900-16a5-45dd-aca8-91373b7cc6c2",
   "metadata": {},
   "source": [
    "# task 1"
   ]
  },
  {
   "cell_type": "code",
   "execution_count": 46,
   "id": "3d8136c1-2654-47e5-88fd-054d020600a9",
   "metadata": {},
   "outputs": [],
   "source": [
    "img=cv2.imread(r\"C:\\Users\\Fujitsu T\\Desktop\\week 3\\images\\image.webp\")"
   ]
  },
  {
   "cell_type": "code",
   "execution_count": 47,
   "id": "4cb03b6c-5dc8-48aa-83f5-b290689229b9",
   "metadata": {},
   "outputs": [
    {
     "data": {
      "text/plain": [
       "(1200, 1200, 3)"
      ]
     },
     "execution_count": 47,
     "metadata": {},
     "output_type": "execute_result"
    }
   ],
   "source": [
    "img.shape"
   ]
  },
  {
   "cell_type": "code",
   "execution_count": 48,
   "id": "d03bd1d4-d996-4a24-af87-960edbfa8a43",
   "metadata": {},
   "outputs": [],
   "source": [
    "width,height,channel =img.shape"
   ]
  },
  {
   "cell_type": "code",
   "execution_count": 49,
   "id": "2efbda23-ee22-4a9a-b7c5-eeb4f4629106",
   "metadata": {},
   "outputs": [
    {
     "name": "stdout",
     "output_type": "stream",
     "text": [
      "The width is : 1200 \n",
      "The hight is: 1200 \n",
      "The number of channels: 3 \n"
     ]
    }
   ],
   "source": [
    "print(f\"The width is : {width} \\nThe hight is: {height} \\nThe number of channels: {channel} \")"
   ]
  },
  {
   "cell_type": "code",
   "execution_count": 50,
   "id": "025cf60a-323f-44e2-aff6-e94e8ba9bc1c",
   "metadata": {},
   "outputs": [],
   "source": [
    "newImg=cv2.resize(img,(400,400))\n",
    "cv2.imshow(\"image\",newImg)\n",
    "cv2.waitKey(0)\n",
    "cv2.destroyAllWindows()"
   ]
  },
  {
   "cell_type": "markdown",
   "id": "7ad78cf0-cbd6-4dfc-ad4c-45f16e0be1ae",
   "metadata": {},
   "source": [
    "# task 2"
   ]
  },
  {
   "cell_type": "code",
   "execution_count": 52,
   "id": "7b37544b-5cd2-4cab-acc4-e8373a647871",
   "metadata": {},
   "outputs": [],
   "source": [
    "#using image from task 1\n",
    "img_gray=cv2.cvtColor(newImg,cv2.COLOR_BGR2GRAY)\n",
    "var,bin_img=cv2.threshold(img_gray,127,255,cv2.THRESH_BINARY)\n",
    "cv2.imshow(\"orignal image\",newImg)\n",
    "cv2.imshow(\"binarized image\",bin_img)\n",
    "cv2.waitKey(0)\n",
    "cv2.destroyAllWindows()"
   ]
  },
  {
   "cell_type": "markdown",
   "id": "90899ea4-1362-4363-8ca1-e31d23543f9e",
   "metadata": {},
   "source": [
    "# task 3 "
   ]
  },
  {
   "cell_type": "code",
   "execution_count": 54,
   "id": "d0ee8ae8-b4b6-42dc-9be4-c5202bf0a049",
   "metadata": {},
   "outputs": [],
   "source": [
    "img2=cv2.imread(r\"C:\\Users\\Fujitsu T\\Desktop\\week 3\\images\\image2.webp\")  "
   ]
  },
  {
   "cell_type": "code",
   "execution_count": 55,
   "id": "77937d21-c081-41a1-a468-b61a6b7be4db",
   "metadata": {},
   "outputs": [],
   "source": [
    "def rgb2gray(img):\n",
    "    width,height,channel =img.shape\n",
    "    if channel == 3:\n",
    "        print(\"it is a three channel image\")\n",
    "        img_gray=cv2.cvtColor(img,cv2.COLOR_BGR2GRAY)\n",
    "        var,bin_img=cv2.threshold(img_gray,127,255,cv2.THRESH_BINARY)\n",
    "        cv2.imshow(\"binarized image\",bin_img)\n",
    "        cv2.waitKey(0)\n",
    "        cv2.destroyAllWindows()\n",
    "    else:\n",
    "        print(\"it is a one channel image\")\n",
    "        cv2.imshow(\"image\",img)\n",
    "        cv2.waitKey(0)\n",
    "        cv2.destroyAllWindows()\n",
    "    "
   ]
  },
  {
   "cell_type": "code",
   "execution_count": 56,
   "id": "67153009-dc1e-4ffe-b10f-780446f27c98",
   "metadata": {},
   "outputs": [
    {
     "name": "stdout",
     "output_type": "stream",
     "text": [
      "it is a three channel image\n"
     ]
    }
   ],
   "source": [
    "rgb2gray(img2)"
   ]
  },
  {
   "cell_type": "markdown",
   "id": "d5496ca6-d5d6-4423-ae02-d27bcd06da28",
   "metadata": {},
   "source": [
    "# Task 4"
   ]
  },
  {
   "cell_type": "code",
   "execution_count": 58,
   "id": "384bece8-dab4-4719-86ee-e8344b6e9664",
   "metadata": {},
   "outputs": [
    {
     "ename": "NameError",
     "evalue": "name 'threshold' is not defined",
     "output_type": "error",
     "traceback": [
      "\u001b[1;31m---------------------------------------------------------------------------\u001b[0m",
      "\u001b[1;31mNameError\u001b[0m                                 Traceback (most recent call last)",
      "Cell \u001b[1;32mIn[58], line 6\u001b[0m\n\u001b[0;32m      4\u001b[0m \u001b[38;5;28;01mfor\u001b[39;00m i \u001b[38;5;129;01min\u001b[39;00m \u001b[38;5;28mrange\u001b[39m(img_gray\u001b[38;5;241m.\u001b[39mshape[\u001b[38;5;241m0\u001b[39m]):\n\u001b[0;32m      5\u001b[0m     \u001b[38;5;28;01mfor\u001b[39;00m j \u001b[38;5;129;01min\u001b[39;00m \u001b[38;5;28mrange\u001b[39m(img_gray\u001b[38;5;241m.\u001b[39mshape[\u001b[38;5;241m1\u001b[39m]):\n\u001b[1;32m----> 6\u001b[0m         \u001b[38;5;28;01mif\u001b[39;00m img_gray[i,j]\u001b[38;5;241m>\u001b[39m\u001b[43mthreshold\u001b[49m:\n\u001b[0;32m      7\u001b[0m             img_array[i,j]\u001b[38;5;241m=\u001b[39m\u001b[38;5;241m255\u001b[39m\n\u001b[0;32m      8\u001b[0m         \u001b[38;5;28;01melse\u001b[39;00m:\n",
      "\u001b[1;31mNameError\u001b[0m: name 'threshold' is not defined"
     ]
    }
   ],
   "source": [
    "img_gray=cv2.cvtColor(img,cv2.COLOR_BGR2GRAY)\n",
    "img_array=np.zeros(img_gray.shape)\n",
    "threshold=127\n",
    "for i in range(img_gray.shape[0]):\n",
    "    for j in range(img_gray.shape[1]):\n",
    "        if img_gray[i,j]>threshold:\n",
    "            img_array[i,j]=255\n",
    "        else:\n",
    "            img_array[i,j]=0\n",
    "img_bin=cv2.resize(img_array, (700,500))\n",
    "cv2.imshow(\"image\",img2)\n",
    "cv2.waitKey(0)\n",
    "cv2.destroyAllWindows()"
   ]
  }
 ],
 "metadata": {
  "kernelspec": {
   "display_name": "Python 3 (ipykernel)",
   "language": "python",
   "name": "python3"
  },
  "language_info": {
   "codemirror_mode": {
    "name": "ipython",
    "version": 3
   },
   "file_extension": ".py",
   "mimetype": "text/x-python",
   "name": "python",
   "nbconvert_exporter": "python",
   "pygments_lexer": "ipython3",
   "version": "3.12.4"
  }
 },
 "nbformat": 4,
 "nbformat_minor": 5
}
